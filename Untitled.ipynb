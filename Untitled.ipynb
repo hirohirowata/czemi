{
 "cells": [
  {
   "cell_type": "code",
   "execution_count": 71,
   "metadata": {},
   "outputs": [
    {
     "name": "stdout",
     "output_type": "stream",
     "text": [
      "               age spectacle_prescription astigmatic tear_production_rate  \\\n",
      "0            young                  myope         no              reduced   \n",
      "1            young                  myope         no               normal   \n",
      "2            young                  myope        yes              reduced   \n",
      "3            young                  myope        yes               normal   \n",
      "4            young           hypermetrope         no              reduced   \n",
      "5            young           hypermetrope         no               normal   \n",
      "6            young           hypermetrope        yes              reduced   \n",
      "7            young           hypermetrope        yes               normal   \n",
      "8   pre-presbyopic                  myope         no              reduced   \n",
      "9   pre-presbyopic                  myope         no               normal   \n",
      "10  pre-presbyopic                  myope        yes              reduced   \n",
      "11  pre-presbyopic                  myope        yes               normal   \n",
      "12  pre-presbyopic           hypermetrope         no              reduced   \n",
      "13  pre-presbyopic           hypermetrope         no               normal   \n",
      "14  pre-presbyopic           hypermetrope        yes              reduced   \n",
      "15  pre-presbyopic           hypermetrope        yes               normal   \n",
      "16      presbyopic                  myope         no              reduced   \n",
      "17      presbyopic                  myope         no               normal   \n",
      "18      presbyopic                  myope        yes              reduced   \n",
      "19      presbyopic                  myope        yes               normal   \n",
      "20      presbyopic           hypermetrope         no              reduced   \n",
      "21      presbyopic           hypermetrope         no               normal   \n",
      "22      presbyopic           hypermetrope        yes              reduced   \n",
      "23      presbyopic           hypermetrope        yes               normal   \n",
      "\n",
      "   contact-lenses  \n",
      "0            none  \n",
      "1            soft  \n",
      "2            none  \n",
      "3            hard  \n",
      "4            none  \n",
      "5            soft  \n",
      "6            none  \n",
      "7            hard  \n",
      "8            none  \n",
      "9            soft  \n",
      "10           none  \n",
      "11           hard  \n",
      "12           none  \n",
      "13           soft  \n",
      "14           none  \n",
      "15           none  \n",
      "16           none  \n",
      "17           none  \n",
      "18           none  \n",
      "19           hard  \n",
      "20           none  \n",
      "21           soft  \n",
      "22           none  \n",
      "23           none  \n"
     ]
    }
   ],
   "source": [
    "import pandas as pd\n",
    "df = pd.read_csv('contact.csv')\n",
    "print(df)"
   ]
  },
  {
   "cell_type": "code",
   "execution_count": 72,
   "metadata": {},
   "outputs": [],
   "source": [
    "Nn = (df['contact-lenses'] == 'none').sum()\n",
    "Ns = (df['contact-lenses'] == 'soft').sum()\n",
    "Nh = (df['contact-lenses'] == 'hard').sum()\n",
    "Nnyou = ((df['contact-lenses'] == 'none') & (df['age'] == 'young')).sum()\n",
    "Nnprepre = ((df['contact-lenses'] == 'none') & (df['age'] == 'pre-presbyopic')).sum()\n",
    "Nnpre = ((df['contact-lenses'] == 'none') & (df['age'] == 'presbyopic')).sum()\n",
    "Nsyou = ((df['contact-lenses'] == 'soft') & (df['age'] == 'young')).sum()\n",
    "Nsprepre = ((df['contact-lenses'] == 'soft') & (df['age'] == 'pre-presbyopic')).sum()\n",
    "Nspre = ((df['contact-lenses'] == 'soft') & (df['age'] == 'presbyopic')).sum()\n",
    "Nhyou = ((df['contact-lenses'] == 'hard') & (df['age'] == 'young')).sum()\n",
    "Nhprepre = ((df['contact-lenses'] == 'hard') & (df['age'] == 'pre-presbyopic')).sum()\n",
    "Nhpre = ((df['contact-lenses'] == 'hard') & (df['age'] == 'presbyopic')).sum()\n",
    "Nnmyo = ((df['contact-lenses'] == 'none') & (df['spectacle_prescription'] == 'myope')).sum()\n",
    "Nnhyp = ((df['contact-lenses'] == 'none') & (df['spectacle_prescription'] == 'hypermetrope')).sum()\n",
    "Nsmyo = ((df['contact-lenses'] == 'soft') & (df['spectacle_prescription'] == 'myope')).sum()\n",
    "Nshyp = ((df['contact-lenses'] == 'soft') & (df['spectacle_prescription'] == 'hypermetrope')).sum()\n",
    "Nhmyo = ((df['contact-lenses'] == 'hard') & (df['spectacle_prescription'] == 'myope')).sum()\n",
    "Nhhyp = ((df['contact-lenses'] == 'hard') & (df['spectacle_prescription'] == 'hypermetrope')).sum()\n",
    "Nnyes = ((df['contact-lenses'] == 'none') & (df['astigmatic'] == 'yes')).sum()\n",
    "Nnno = ((df['contact-lenses'] == 'none') & (df['astigmatic'] == 'no')).sum()\n",
    "Nsyes = ((df['contact-lenses'] == 'soft') & (df['astigmatic'] == 'yes')).sum()\n",
    "Nsno  = ((df['contact-lenses'] == 'soft') & (df['astigmatic'] == 'no')).sum()\n",
    "Nhyes = ((df['contact-lenses'] == 'hard') & (df['astigmatic'] == 'yes')).sum()\n",
    "Nhno = ((df['contact-lenses'] == 'hard') & (df['astigmatic'] == 'no')).sum()\n",
    "Nnred = ((df['contact-lenses'] == 'none') & (df['tear_production_rate'] == 'reduced')).sum()\n",
    "Nnnor = ((df['contact-lenses'] == 'none') & (df['tear_production_rate'] == 'normal')).sum()\n",
    "Nsred = ((df['contact-lenses'] == 'soft') & (df['tear_production_rate'] == 'reduced')).sum()\n",
    "Nsnor = ((df['contact-lenses'] == 'soft') & (df['tear_production_rate'] == 'normal')).sum()\n",
    "Nhred = ((df['contact-lenses'] == 'hard') & (df['tear_production_rate'] == 'reduced')).sum()\n",
    "Nhnor = ((df['contact-lenses'] == 'hard') & (df['tear_production_rate'] == 'normal')).sum()"
   ]
  },
  {
   "cell_type": "code",
   "execution_count": 73,
   "metadata": {},
   "outputs": [],
   "source": [
    "Pn = (Nn + 1)/(Nn + Ns + Nh + 3)\n",
    "Ps = (Ns + 1)/(Nn + Ns + Nh + 3)\n",
    "Ph = (Nh + 1)/(Nn + Ns + Nh + 3)"
   ]
  },
  {
   "cell_type": "code",
   "execution_count": 74,
   "metadata": {},
   "outputs": [],
   "source": [
    "Pnyou = (Nnyou + 1)/(Nn +2)\n",
    "Pnprepre = (Nnprepre + 1)/(Nn + 2)\n",
    "Pnpre = (Nnpre + 1)/(Nn + 2)\n",
    "Psyou = (Nsyou + 1)/(Ns +2)\n",
    "Psprepre = (Nsprepre + 1)/(Ns +2)\n",
    "Pspre = (Nspre + 1)/(Ns + 2)\n",
    "Phyou = (Nhyou + 1)/(Nh + 2)\n",
    "Phprepre = (Nhprepre + 1)/(Nh + 2)\n",
    "Phpre = (Nhpre + 1)/(Nh + 2)\n",
    "Pnmyo = (Nnmyo + 1)/(Nn + 2)\n",
    "Pnhyp = (Nnhyp + 1)/(Nn + 2)\n",
    "Psmyo = (Nsmyo + 1)/(Ns + 2)\n",
    "Pshyp = (Nshyp + 1)/(Ns + 2)\n",
    "Phmyo = (Nhmyo + 1)/(Nh + 2)\n",
    "Phhyp = (Nhhyp + 1)/(Nh + 2)\n",
    "Pnyes = (Nnyes + 1)/(Nn + 2)\n",
    "Pnno = (Nnno + 1)/(Nn + 2)\n",
    "Psyes = (Nsyes + 1)/(Ns + 2)\n",
    "Psno = (Nsno + 1)/(Ns + 2)\n",
    "Phyes = (Nhyes + 1)/(Nh + 2)\n",
    "Phno = (Nhno + 1)/(Nh + 2)\n",
    "Pnred = (Nnred + 1)/(Nn + 2)\n",
    "Pnnor = (Nnnor + 1)/(Nn + 2)\n",
    "Psred = (Nsred + 1)/(Ns + 2)\n",
    "Psnor = (Nsnor + 1)/(Ns + 2)\n",
    "Phred = (Nhred + 1)/(Nh + 2)\n",
    "Phnor = (Nhnor + 1)/(Nh + 2)"
   ]
  },
  {
   "cell_type": "code",
   "execution_count": 75,
   "metadata": {},
   "outputs": [],
   "source": [
    "test_data = pd.Series({'age':'presbyopic','spectacle_prescription':'hypermetrope','astigmatic':'yes','tear_production_rate':'normal'})"
   ]
  },
  {
   "cell_type": "code",
   "execution_count": 76,
   "metadata": {},
   "outputs": [],
   "source": [
    "if test_data['age'] == 'young':\n",
    "    N = Pn * Pnyou\n",
    "    S = Ps * Psyou\n",
    "    H = Ph * Phyou \n",
    "elif test_data['age'] == 'pre-presbyopic':\n",
    "    N = Pn * Pnprepre\n",
    "    S = Ps * Psprepre\n",
    "    H = Ph * Phprepre\n",
    "    \n",
    "elif test_data['age'] == 'presbyopic':\n",
    "    N = Pn * Pnpre\n",
    "    S = Ps * Pspre\n",
    "    H = Ph * Phpre\n",
    "    \n",
    "if test_data['spectacle_prescription'] == 'myope':\n",
    "    N = N * Pnmyo\n",
    "    S = S * Psmyo\n",
    "    H = H * Phmyo\n",
    "elif test_data['spectacle_prescription'] == 'hypermetrope':\n",
    "    N = N * Pnhyp\n",
    "    S = S * Pshyp\n",
    "    H = H * Phhyp\n",
    "\n",
    "if test_data['astigmatic'] == 'yes':\n",
    "    N = N * Pnyes\n",
    "    S = S * Psyes\n",
    "    H = H * Phyes\n",
    "elif test_data['astigmatic'] == 'no':\n",
    "    N = N * Pnno\n",
    "    S = S * Psno\n",
    "    H = H * Phno\n",
    "    \n",
    "if test_data['tear_production_rate'] == 'reduced':\n",
    "    N = N * Pnred\n",
    "    S = S * Psred\n",
    "    H = H * Phred\n",
    "elif test_data['tear_production_rate'] == 'normal':\n",
    "    N = N * Pnnor\n",
    "    S = S * Psnor\n",
    "    H = H * Phnor"
   ]
  },
  {
   "cell_type": "code",
   "execution_count": 77,
   "metadata": {},
   "outputs": [
    {
     "name": "stdout",
     "output_type": "stream",
     "text": [
      "none\n"
     ]
    }
   ],
   "source": [
    "if N > S:\n",
    "    if N > H:\n",
    "        print('none')\n",
    "    else:\n",
    "        print('hard')\n",
    "\n",
    "else:\n",
    "    if S > H:\n",
    "        print('soft')\n",
    "    else:\n",
    "        print('hard')"
   ]
  },
  {
   "cell_type": "code",
   "execution_count": null,
   "metadata": {},
   "outputs": [],
   "source": []
  },
  {
   "cell_type": "code",
   "execution_count": null,
   "metadata": {
    "collapsed": true
   },
   "outputs": [],
   "source": []
  }
 ],
 "metadata": {
  "kernelspec": {
   "display_name": "Python 3",
   "language": "python",
   "name": "python3"
  },
  "language_info": {
   "codemirror_mode": {
    "name": "ipython",
    "version": 3
   },
   "file_extension": ".py",
   "mimetype": "text/x-python",
   "name": "python",
   "nbconvert_exporter": "python",
   "pygments_lexer": "ipython3",
   "version": "3.6.2"
  }
 },
 "nbformat": 4,
 "nbformat_minor": 2
}
