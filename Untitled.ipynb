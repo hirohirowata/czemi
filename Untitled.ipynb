{
 "cells": [
  {
   "cell_type": "code",
   "execution_count": 252,
   "metadata": {
    "scrolled": true
   },
   "outputs": [],
   "source": [
    "import pandas as pd\n",
    "df = pd.read_csv('contact.csv')"
   ]
  },
  {
   "cell_type": "code",
   "execution_count": 253,
   "metadata": {},
   "outputs": [],
   "source": [
    "l = {}\n",
    "for i in df[df.columns[-1]].unique():\n",
    "    l[i] = (df[df.columns[-1]] == f'{i}').sum()"
   ]
  },
  {
   "cell_type": "code",
   "execution_count": 254,
   "metadata": {
    "scrolled": true
   },
   "outputs": [],
   "source": [
    "n = {}\n",
    "for i in df[df.columns[-1]].unique():\n",
    "    for j in df.columns[:-1]:\n",
    "        for k in df[j].unique():\n",
    "            if i in n:\n",
    "                n[i][k] = ((df[j] == f'{k}') & (df[df.columns[-1]] == f'{i}')).sum()\n",
    "            else:\n",
    "                n[i] = {}"
   ]
  },
  {
   "cell_type": "code",
   "execution_count": 255,
   "metadata": {},
   "outputs": [],
   "source": [
    "p = {}\n",
    "a = 2\n",
    "b = 0\n",
    "c = 0\n",
    "for i in l.values():\n",
    "    b = b + i\n",
    "    c = c + 1\n",
    "for i in l:\n",
    "    p[i] = (l[f'{i}'] + (a - 1)) / (b + c * (a - 1))"
   ]
  },
  {
   "cell_type": "code",
   "execution_count": 256,
   "metadata": {},
   "outputs": [],
   "source": [
    "q = {}\n",
    "a = 2\n",
    "for i in l:\n",
    "    for j in n[f'{i}']:\n",
    "        if i in q:\n",
    "            q[i][j] = (n[f'{i}'][f'{j}'] + (a - 1)) / (l[f'{i}'] + 2 * (a - 1))\n",
    "        else:\n",
    "            q[i] = {}"
   ]
  },
  {
   "cell_type": "code",
   "execution_count": 257,
   "metadata": {
    "collapsed": true
   },
   "outputs": [],
   "source": [
    "test_data = pd.Series({'age':'presbyopic','spectacle_prescription':'hypermetrope','astigmatic':'yes','tear_production_rate':'normal'})"
   ]
  },
  {
   "cell_type": "code",
   "execution_count": 258,
   "metadata": {},
   "outputs": [],
   "source": [
    "parm = {}\n",
    "for kind in p:\n",
    "    parm[kind] = p[kind]"
   ]
  },
  {
   "cell_type": "code",
   "execution_count": 259,
   "metadata": {},
   "outputs": [],
   "source": [
    "for i in df.columns[:-1]:\n",
    "    for j in df[f'{i}'].unique():\n",
    "        if test_data[f'{i}'] == f'{j}':\n",
    "            for kind in parm:\n",
    "                parm[kind] = parm[kind] * q[kind][f'{j}']"
   ]
  },
  {
   "cell_type": "code",
   "execution_count": 260,
   "metadata": {},
   "outputs": [
    {
     "name": "stdout",
     "output_type": "stream",
     "text": [
      "none\n"
     ]
    }
   ],
   "source": [
    "max_value = -1000000000\n",
    "max_index = \"\"\n",
    "for kind in parm:\n",
    "    if max_value < parm[kind]:\n",
    "        max_value = parm[kind]\n",
    "        max_index = kind\n",
    "        \n",
    "print(max_index)"
   ]
  }
 ],
 "metadata": {
  "kernelspec": {
   "display_name": "Python 3",
   "language": "python",
   "name": "python3"
  },
  "language_info": {
   "codemirror_mode": {
    "name": "ipython",
    "version": 3
   },
   "file_extension": ".py",
   "mimetype": "text/x-python",
   "name": "python",
   "nbconvert_exporter": "python",
   "pygments_lexer": "ipython3",
   "version": "3.6.2"
  }
 },
 "nbformat": 4,
 "nbformat_minor": 2
}
